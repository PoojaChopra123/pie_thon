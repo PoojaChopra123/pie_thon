{
 "cells": [
  {
   "cell_type": "code",
   "execution_count": 66,
   "metadata": {},
   "outputs": [],
   "source": [
    "import pandas as pd\n",
    "from datetime import datetime\n",
    "import numpy as np\n",
    "import matplotlib.pyplot as plt\n",
    "import seaborn as sns; sns.set()\n",
    "import warnings\n",
    "warnings.filterwarnings('ignore')"
   ]
  },
  {
   "cell_type": "code",
   "execution_count": 2,
   "metadata": {},
   "outputs": [],
   "source": [
    "file = pd.read_excel('MasterData_Wilson.xlsx')"
   ]
  },
  {
   "cell_type": "code",
   "execution_count": 3,
   "metadata": {},
   "outputs": [
    {
     "data": {
      "text/html": [
       "<div>\n",
       "<style scoped>\n",
       "    .dataframe tbody tr th:only-of-type {\n",
       "        vertical-align: middle;\n",
       "    }\n",
       "\n",
       "    .dataframe tbody tr th {\n",
       "        vertical-align: top;\n",
       "    }\n",
       "\n",
       "    .dataframe thead th {\n",
       "        text-align: right;\n",
       "    }\n",
       "</style>\n",
       "<table border=\"1\" class=\"dataframe\">\n",
       "  <thead>\n",
       "    <tr style=\"text-align: right;\">\n",
       "      <th></th>\n",
       "      <th>date</th>\n",
       "      <th>time</th>\n",
       "      <th>year</th>\n",
       "      <th>MonthN</th>\n",
       "      <th>Month</th>\n",
       "      <th>WeekN</th>\n",
       "      <th>Day</th>\n",
       "      <th>WeekD</th>\n",
       "      <th>H</th>\n",
       "      <th>Min</th>\n",
       "      <th>...</th>\n",
       "      <th>Price</th>\n",
       "      <th>Quantity</th>\n",
       "      <th>Modifiers</th>\n",
       "      <th>Subtotal</th>\n",
       "      <th>Discounts</th>\n",
       "      <th>Net Total</th>\n",
       "      <th>Tax</th>\n",
       "      <th>Total Due</th>\n",
       "      <th>Unnamed: 29</th>\n",
       "      <th>Unnamed: 30</th>\n",
       "    </tr>\n",
       "  </thead>\n",
       "  <tbody>\n",
       "    <tr>\n",
       "      <th>0</th>\n",
       "      <td>2016-07-25</td>\n",
       "      <td>2016-07-25 09:04:00</td>\n",
       "      <td>2016.0</td>\n",
       "      <td>7.0</td>\n",
       "      <td>Jul</td>\n",
       "      <td>31.0</td>\n",
       "      <td>25.0</td>\n",
       "      <td>Mon</td>\n",
       "      <td>9.0</td>\n",
       "      <td>4.0</td>\n",
       "      <td>...</td>\n",
       "      <td>2.25</td>\n",
       "      <td>1</td>\n",
       "      <td>0</td>\n",
       "      <td>2.25</td>\n",
       "      <td>0</td>\n",
       "      <td>2.25</td>\n",
       "      <td>0.05</td>\n",
       "      <td>2.3</td>\n",
       "      <td>NaN</td>\n",
       "      <td>NaN</td>\n",
       "    </tr>\n",
       "    <tr>\n",
       "      <th>1</th>\n",
       "      <td>2016-07-25</td>\n",
       "      <td>2016-07-25 09:28:00</td>\n",
       "      <td>2016.0</td>\n",
       "      <td>7.0</td>\n",
       "      <td>Jul</td>\n",
       "      <td>31.0</td>\n",
       "      <td>25.0</td>\n",
       "      <td>Mon</td>\n",
       "      <td>9.0</td>\n",
       "      <td>28.0</td>\n",
       "      <td>...</td>\n",
       "      <td>2</td>\n",
       "      <td>2</td>\n",
       "      <td>0</td>\n",
       "      <td>4</td>\n",
       "      <td>0</td>\n",
       "      <td>4</td>\n",
       "      <td>0.09</td>\n",
       "      <td>4.09</td>\n",
       "      <td>NaN</td>\n",
       "      <td>NaN</td>\n",
       "    </tr>\n",
       "    <tr>\n",
       "      <th>2</th>\n",
       "      <td>2016-07-25</td>\n",
       "      <td>2016-07-25 09:28:00</td>\n",
       "      <td>2016.0</td>\n",
       "      <td>7.0</td>\n",
       "      <td>Jul</td>\n",
       "      <td>31.0</td>\n",
       "      <td>25.0</td>\n",
       "      <td>Mon</td>\n",
       "      <td>9.0</td>\n",
       "      <td>28.0</td>\n",
       "      <td>...</td>\n",
       "      <td>3.75</td>\n",
       "      <td>1</td>\n",
       "      <td>0</td>\n",
       "      <td>3.75</td>\n",
       "      <td>0</td>\n",
       "      <td>3.75</td>\n",
       "      <td>0.38</td>\n",
       "      <td>4.13</td>\n",
       "      <td>NaN</td>\n",
       "      <td>NaN</td>\n",
       "    </tr>\n",
       "    <tr>\n",
       "      <th>3</th>\n",
       "      <td>2016-07-25</td>\n",
       "      <td>2016-07-25 09:28:00</td>\n",
       "      <td>2016.0</td>\n",
       "      <td>7.0</td>\n",
       "      <td>Jul</td>\n",
       "      <td>31.0</td>\n",
       "      <td>25.0</td>\n",
       "      <td>Mon</td>\n",
       "      <td>9.0</td>\n",
       "      <td>28.0</td>\n",
       "      <td>...</td>\n",
       "      <td>3.8</td>\n",
       "      <td>1</td>\n",
       "      <td>0</td>\n",
       "      <td>3.8</td>\n",
       "      <td>0</td>\n",
       "      <td>3.8</td>\n",
       "      <td>0.09</td>\n",
       "      <td>3.89</td>\n",
       "      <td>NaN</td>\n",
       "      <td>NaN</td>\n",
       "    </tr>\n",
       "    <tr>\n",
       "      <th>4</th>\n",
       "      <td>2016-07-25</td>\n",
       "      <td>2016-07-25 09:29:00</td>\n",
       "      <td>2016.0</td>\n",
       "      <td>7.0</td>\n",
       "      <td>Jul</td>\n",
       "      <td>31.0</td>\n",
       "      <td>25.0</td>\n",
       "      <td>Mon</td>\n",
       "      <td>9.0</td>\n",
       "      <td>29.0</td>\n",
       "      <td>...</td>\n",
       "      <td>3.5</td>\n",
       "      <td>1</td>\n",
       "      <td>0</td>\n",
       "      <td>3.5</td>\n",
       "      <td>0</td>\n",
       "      <td>3.5</td>\n",
       "      <td>0.08</td>\n",
       "      <td>3.58</td>\n",
       "      <td>NaN</td>\n",
       "      <td>NaN</td>\n",
       "    </tr>\n",
       "  </tbody>\n",
       "</table>\n",
       "<p>5 rows × 31 columns</p>\n",
       "</div>"
      ],
      "text/plain": [
       "        date                 time    year  MonthN Month  WeekN   Day WeekD  \\\n",
       "0 2016-07-25  2016-07-25 09:04:00  2016.0     7.0   Jul   31.0  25.0   Mon   \n",
       "1 2016-07-25  2016-07-25 09:28:00  2016.0     7.0   Jul   31.0  25.0   Mon   \n",
       "2 2016-07-25  2016-07-25 09:28:00  2016.0     7.0   Jul   31.0  25.0   Mon   \n",
       "3 2016-07-25  2016-07-25 09:28:00  2016.0     7.0   Jul   31.0  25.0   Mon   \n",
       "4 2016-07-25  2016-07-25 09:29:00  2016.0     7.0   Jul   31.0  25.0   Mon   \n",
       "\n",
       "     H   Min     ...      Price Quantity Modifiers  Subtotal Discounts  \\\n",
       "0  9.0   4.0     ...       2.25        1         0      2.25         0   \n",
       "1  9.0  28.0     ...          2        2         0         4         0   \n",
       "2  9.0  28.0     ...       3.75        1         0      3.75         0   \n",
       "3  9.0  28.0     ...        3.8        1         0       3.8         0   \n",
       "4  9.0  29.0     ...        3.5        1         0       3.5         0   \n",
       "\n",
       "  Net Total   Tax Total Due Unnamed: 29 Unnamed: 30  \n",
       "0      2.25  0.05       2.3         NaN         NaN  \n",
       "1         4  0.09      4.09         NaN         NaN  \n",
       "2      3.75  0.38      4.13         NaN         NaN  \n",
       "3       3.8  0.09      3.89         NaN         NaN  \n",
       "4       3.5  0.08      3.58         NaN         NaN  \n",
       "\n",
       "[5 rows x 31 columns]"
      ]
     },
     "execution_count": 3,
     "metadata": {},
     "output_type": "execute_result"
    }
   ],
   "source": [
    "file.head()"
   ]
  },
  {
   "cell_type": "code",
   "execution_count": 4,
   "metadata": {},
   "outputs": [
    {
     "data": {
      "text/plain": [
       "date             datetime64[ns]\n",
       "time                     object\n",
       "year                    float64\n",
       "MonthN                  float64\n",
       "Month                    object\n",
       "WeekN                   float64\n",
       "Day                     float64\n",
       "WeekD                    object\n",
       "H                       float64\n",
       "Min                     float64\n",
       "30min                   float64\n",
       "Rtime                    object\n",
       "30time                   object\n",
       "H.5                     float64\n",
       "Operation                object\n",
       "Line Item                object\n",
       "Department               object\n",
       "Category                 object\n",
       "Supplier                 object\n",
       "Supplier Code            object\n",
       "Cost                     object\n",
       "Price                    object\n",
       "Quantity                 object\n",
       "Modifiers                object\n",
       "Subtotal                 object\n",
       "Discounts                object\n",
       "Net Total                object\n",
       "Tax                      object\n",
       "Total Due                object\n",
       "Unnamed: 29              object\n",
       "Unnamed: 30             float64\n",
       "dtype: object"
      ]
     },
     "execution_count": 4,
     "metadata": {},
     "output_type": "execute_result"
    }
   ],
   "source": [
    "#date and time already in a datetime format \n",
    "file.dtypes"
   ]
  },
  {
   "cell_type": "code",
   "execution_count": 107,
   "metadata": {},
   "outputs": [
    {
     "data": {
      "text/plain": [
       "Index(['date', 'time', 'year', 'MonthN', 'Month', 'WeekN', 'Day', 'WeekD', 'H',\n",
       "       'Min', '30min', 'Rtime', '30time', 'H.5', 'Operation', 'Line Item',\n",
       "       'Department', 'Category', 'Supplier', 'Supplier Code', 'Cost', 'Price',\n",
       "       'Quantity', 'Modifiers', 'Subtotal', 'Discounts', 'Net Total', 'Tax',\n",
       "       'Total Due'],\n",
       "      dtype='object')"
      ]
     },
     "execution_count": 107,
     "metadata": {},
     "output_type": "execute_result"
    }
   ],
   "source": [
    "file['Total Due'] = pd.to_numeric(file['Total Due'], errors='coerce')\n",
    "#del file['Unnamed: 29']\n",
    "#del file['Unnamed: 30']\n",
    "file.columns"
   ]
  },
  {
   "cell_type": "code",
   "execution_count": 8,
   "metadata": {},
   "outputs": [
    {
     "data": {
      "text/plain": [
       "<matplotlib.axes._subplots.AxesSubplot at 0x1a48f72e10>"
      ]
     },
     "execution_count": 8,
     "metadata": {},
     "output_type": "execute_result"
    },
    {
     "data": {
      "image/png": "[encoded data removed]",
      "text/plain": [
       "<Figure size 432x288 with 1 Axes>"
      ]
     },
     "metadata": {},
     "output_type": "display_data"
    }
   ],
   "source": [
    "#groupby day total sum\n",
    "day_group = file.groupby('WeekD')['Total Due'].sum()\n",
    "day_group\n",
    "\n",
    "Sum_perday = day_group.plot(kind='bar')\n",
    "\n",
    "Sum_perday"
   ]
  },
  {
   "cell_type": "code",
   "execution_count": 9,
   "metadata": {},
   "outputs": [
    {
     "data": {
      "image/png": "[encoded data removed]",
      "text/plain": [
       "<Figure size 432x288 with 1 Axes>"
      ]
     },
     "metadata": {},
     "output_type": "display_data"
    }
   ],
   "source": [
    "#groupby day total average due\n",
    "day_group = file.groupby('WeekD')['Total Due'].mean()\n",
    "day_group\n",
    "\n",
    "Average_due_perday = day_group.plot(kind='bar')"
   ]
  },
  {
   "cell_type": "code",
   "execution_count": 23,
   "metadata": {},
   "outputs": [
    {
     "data": {
      "text/plain": [
       "<matplotlib.axes._subplots.AxesSubplot at 0x1a3b5e6400>"
      ]
     },
     "execution_count": 23,
     "metadata": {},
     "output_type": "execute_result"
    },
    {
     "data": {
      "image/png": "[encoded data removed]",
      "text/plain": [
       "<Figure size 432x288 with 1 Axes>"
      ]
     },
     "metadata": {},
     "output_type": "display_data"
    }
   ],
   "source": [
    "#groupby hours \n",
    "hours_group = file.groupby(['H','WeekD'])['Total Due'].sum()\n",
    "\n",
    "count_perhour = hours_group.plot()\n",
    "ax.set_xlim(7,18)\n",
    "count_perhour"
   ]
  },
  {
   "cell_type": "code",
   "execution_count": 62,
   "metadata": {},
   "outputs": [
    {
     "data": {
      "text/html": [
       "<div>\n",
       "<style scoped>\n",
       "    .dataframe tbody tr th:only-of-type {\n",
       "        vertical-align: middle;\n",
       "    }\n",
       "\n",
       "    .dataframe tbody tr th {\n",
       "        vertical-align: top;\n",
       "    }\n",
       "\n",
       "    .dataframe thead th {\n",
       "        text-align: right;\n",
       "    }\n",
       "</style>\n",
       "<table border=\"1\" class=\"dataframe\">\n",
       "  <thead>\n",
       "    <tr style=\"text-align: right;\">\n",
       "      <th></th>\n",
       "      <th>date</th>\n",
       "      <th>time</th>\n",
       "      <th>year</th>\n",
       "      <th>MonthN</th>\n",
       "      <th>Month</th>\n",
       "      <th>WeekN</th>\n",
       "      <th>Day</th>\n",
       "      <th>WeekD</th>\n",
       "      <th>H</th>\n",
       "      <th>Min</th>\n",
       "      <th>...</th>\n",
       "      <th>Cost</th>\n",
       "      <th>Price</th>\n",
       "      <th>Quantity</th>\n",
       "      <th>Modifiers</th>\n",
       "      <th>Subtotal</th>\n",
       "      <th>Discounts</th>\n",
       "      <th>Net Total</th>\n",
       "      <th>Tax</th>\n",
       "      <th>Total Due</th>\n",
       "      <th>count</th>\n",
       "    </tr>\n",
       "  </thead>\n",
       "  <tbody>\n",
       "    <tr>\n",
       "      <th>0</th>\n",
       "      <td>2016-07-25</td>\n",
       "      <td>2016-07-25 09:04:00</td>\n",
       "      <td>2016.0</td>\n",
       "      <td>7.0</td>\n",
       "      <td>Jul</td>\n",
       "      <td>31.0</td>\n",
       "      <td>25.0</td>\n",
       "      <td>Mon</td>\n",
       "      <td>9.0</td>\n",
       "      <td>4.0</td>\n",
       "      <td>...</td>\n",
       "      <td>1</td>\n",
       "      <td>2.25</td>\n",
       "      <td>1</td>\n",
       "      <td>0</td>\n",
       "      <td>2.25</td>\n",
       "      <td>0</td>\n",
       "      <td>2.25</td>\n",
       "      <td>0.05</td>\n",
       "      <td>2.30</td>\n",
       "      <td>831.5</td>\n",
       "    </tr>\n",
       "    <tr>\n",
       "      <th>1</th>\n",
       "      <td>2016-07-25</td>\n",
       "      <td>2016-07-25 09:28:00</td>\n",
       "      <td>2016.0</td>\n",
       "      <td>7.0</td>\n",
       "      <td>Jul</td>\n",
       "      <td>31.0</td>\n",
       "      <td>25.0</td>\n",
       "      <td>Mon</td>\n",
       "      <td>9.0</td>\n",
       "      <td>28.0</td>\n",
       "      <td>...</td>\n",
       "      <td>0</td>\n",
       "      <td>2</td>\n",
       "      <td>2</td>\n",
       "      <td>0</td>\n",
       "      <td>4</td>\n",
       "      <td>0</td>\n",
       "      <td>4</td>\n",
       "      <td>0.09</td>\n",
       "      <td>4.09</td>\n",
       "      <td>831.5</td>\n",
       "    </tr>\n",
       "    <tr>\n",
       "      <th>2</th>\n",
       "      <td>2016-07-25</td>\n",
       "      <td>2016-07-25 09:28:00</td>\n",
       "      <td>2016.0</td>\n",
       "      <td>7.0</td>\n",
       "      <td>Jul</td>\n",
       "      <td>31.0</td>\n",
       "      <td>25.0</td>\n",
       "      <td>Mon</td>\n",
       "      <td>9.0</td>\n",
       "      <td>28.0</td>\n",
       "      <td>...</td>\n",
       "      <td>0</td>\n",
       "      <td>3.75</td>\n",
       "      <td>1</td>\n",
       "      <td>0</td>\n",
       "      <td>3.75</td>\n",
       "      <td>0</td>\n",
       "      <td>3.75</td>\n",
       "      <td>0.38</td>\n",
       "      <td>4.13</td>\n",
       "      <td>831.5</td>\n",
       "    </tr>\n",
       "    <tr>\n",
       "      <th>3</th>\n",
       "      <td>2016-07-25</td>\n",
       "      <td>2016-07-25 09:28:00</td>\n",
       "      <td>2016.0</td>\n",
       "      <td>7.0</td>\n",
       "      <td>Jul</td>\n",
       "      <td>31.0</td>\n",
       "      <td>25.0</td>\n",
       "      <td>Mon</td>\n",
       "      <td>9.0</td>\n",
       "      <td>28.0</td>\n",
       "      <td>...</td>\n",
       "      <td>0</td>\n",
       "      <td>3.8</td>\n",
       "      <td>1</td>\n",
       "      <td>0</td>\n",
       "      <td>3.8</td>\n",
       "      <td>0</td>\n",
       "      <td>3.8</td>\n",
       "      <td>0.09</td>\n",
       "      <td>3.89</td>\n",
       "      <td>831.5</td>\n",
       "    </tr>\n",
       "    <tr>\n",
       "      <th>4</th>\n",
       "      <td>2016-07-25</td>\n",
       "      <td>2016-07-25 09:29:00</td>\n",
       "      <td>2016.0</td>\n",
       "      <td>7.0</td>\n",
       "      <td>Jul</td>\n",
       "      <td>31.0</td>\n",
       "      <td>25.0</td>\n",
       "      <td>Mon</td>\n",
       "      <td>9.0</td>\n",
       "      <td>29.0</td>\n",
       "      <td>...</td>\n",
       "      <td>1.4</td>\n",
       "      <td>3.5</td>\n",
       "      <td>1</td>\n",
       "      <td>0</td>\n",
       "      <td>3.5</td>\n",
       "      <td>0</td>\n",
       "      <td>3.5</td>\n",
       "      <td>0.08</td>\n",
       "      <td>3.58</td>\n",
       "      <td>831.5</td>\n",
       "    </tr>\n",
       "  </tbody>\n",
       "</table>\n",
       "<p>5 rows × 30 columns</p>\n",
       "</div>"
      ],
      "text/plain": [
       "        date                 time    year  MonthN Month  WeekN   Day WeekD  \\\n",
       "0 2016-07-25  2016-07-25 09:04:00  2016.0     7.0   Jul   31.0  25.0   Mon   \n",
       "1 2016-07-25  2016-07-25 09:28:00  2016.0     7.0   Jul   31.0  25.0   Mon   \n",
       "2 2016-07-25  2016-07-25 09:28:00  2016.0     7.0   Jul   31.0  25.0   Mon   \n",
       "3 2016-07-25  2016-07-25 09:28:00  2016.0     7.0   Jul   31.0  25.0   Mon   \n",
       "4 2016-07-25  2016-07-25 09:29:00  2016.0     7.0   Jul   31.0  25.0   Mon   \n",
       "\n",
       "     H   Min  ...    Cost Price Quantity  Modifiers Subtotal Discounts  \\\n",
       "0  9.0   4.0  ...       1  2.25        1          0     2.25         0   \n",
       "1  9.0  28.0  ...       0     2        2          0        4         0   \n",
       "2  9.0  28.0  ...       0  3.75        1          0     3.75         0   \n",
       "3  9.0  28.0  ...       0   3.8        1          0      3.8         0   \n",
       "4  9.0  29.0  ...     1.4   3.5        1          0      3.5         0   \n",
       "\n",
       "  Net Total   Tax Total Due  count  \n",
       "0      2.25  0.05      2.30  831.5  \n",
       "1         4  0.09      4.09  831.5  \n",
       "2      3.75  0.38      4.13  831.5  \n",
       "3       3.8  0.09      3.89  831.5  \n",
       "4       3.5  0.08      3.58  831.5  \n",
       "\n",
       "[5 rows x 30 columns]"
      ]
     },
     "execution_count": 62,
     "metadata": {},
     "output_type": "execute_result"
    }
   ],
   "source": [
    "date_group = file.groupby(['date'])['Total Due'].sum().to_frame(name = 'count').reset_index()\n",
    "file1 = file.merge(date_group)\n",
    "file1.head()"
   ]
  },
  {
   "cell_type": "code",
   "execution_count": 93,
   "metadata": {},
   "outputs": [
    {
     "data": {
      "text/plain": [
       "(0, 13)"
      ]
     },
     "execution_count": 93,
     "metadata": {},
     "output_type": "execute_result"
    },
    {
     "data": {
      "image/png": "[encoded data removed]",
      "text/plain": [
       "<Figure size 432x288 with 1 Axes>"
      ]
     },
     "metadata": {},
     "output_type": "display_data"
    }
   ],
   "source": [
    "#Average money spend per month\n",
    "ax1 = sns.boxplot(x='MonthN',y='Total Due',data=file1)\n",
    "ax1.set_ylim(0,13)"
   ]
  },
  {
   "cell_type": "code",
   "execution_count": 84,
   "metadata": {},
   "outputs": [
    {
     "data": {
      "text/plain": [
       "(0, 6000)"
      ]
     },
     "execution_count": 84,
     "metadata": {},
     "output_type": "execute_result"
    },
    {
     "data": {
      "image/png": "[encoded data removed]",
      "text/plain": [
       "<Figure size 432x288 with 1 Axes>"
      ]
     },
     "metadata": {},
     "output_type": "display_data"
    }
   ],
   "source": [
    "#Seasonal revenue\n",
    "ax2 = sns.lineplot(x='MonthN',y='count',data=file1, ci='sd', estimator=\"mean\")\n",
    "ax2.set_ylim(0,6000)"
   ]
  },
  {
   "cell_type": "code",
   "execution_count": 105,
   "metadata": {},
   "outputs": [
    {
     "data": {
      "text/plain": [
       "(0, 20)"
      ]
     },
     "execution_count": 105,
     "metadata": {},
     "output_type": "execute_result"
    },
    {
     "data": {
      "image/png": "[encoded data removed]",
      "text/plain": [
       "<Figure size 432x288 with 1 Axes>"
      ]
     },
     "metadata": {},
     "output_type": "display_data"
    }
   ],
   "source": [
    "#By hours average spent\n",
    "ax3 = sns.boxplot(x='H',y='Total Due',data=file1)\n",
    "ax3.set_xlim(6.5,17.5)\n",
    "ax3.set_ylim(0,20)"
   ]
  },
  {
   "cell_type": "code",
   "execution_count": 108,
   "metadata": {},
   "outputs": [
    {
     "data": {
      "image/png": "[encoded data removed]",
      "text/plain": [
       "<Figure size 432x288 with 1 Axes>"
      ]
     },
     "metadata": {},
     "output_type": "display_data"
    }
   ],
   "source": [
    "ax4 = sns.boxplot(x='Category',y='H',data=file1)"
   ]
  },
  {
   "cell_type": "code",
   "execution_count": null,
   "metadata": {},
   "outputs": [],
   "source": []
  }
 ],
 "metadata": {
  "kernelspec": {
   "display_name": "Python 3",
   "language": "python",
   "name": "python3"
  },
  "language_info": {
   "codemirror_mode": {
    "name": "ipython",
    "version": 3
   },
   "file_extension": ".py",
   "mimetype": "text/x-python",
   "name": "python",
   "nbconvert_exporter": "python",
   "pygments_lexer": "ipython3",
   "version": "3.6.7"
  }
 },
 "nbformat": 4,
 "nbformat_minor": 2
}
