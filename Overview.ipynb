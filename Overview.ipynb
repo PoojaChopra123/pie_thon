{
 "cells": [
  {
   "cell_type": "code",
   "execution_count": 2,
   "metadata": {},
   "outputs": [],
   "source": [
    "import pandas as pd\n",
    "from datetime import datetime\n",
    "import numpy as np\n",
    "import matplotlib.pyplot as plt\n",
    "import seaborn as sns; sns.set()\n",
    "import warnings\n",
    "warnings.filterwarnings('ignore')"
   ]
  },
  {
   "cell_type": "code",
   "execution_count": null,
   "metadata": {},
   "outputs": [],
   "source": [
    "file = pd.read_excel('MasterData_Wilson.xlsx')"
   ]
  },
  {
   "cell_type": "code",
   "execution_count": null,
   "metadata": {},
   "outputs": [],
   "source": [
    "file.head()"
   ]
  },
  {
   "cell_type": "code",
   "execution_count": null,
   "metadata": {},
   "outputs": [],
   "source": [
    "#date and time already in a datetime format \n",
    "file.dtypes"
   ]
  },
  {
   "cell_type": "code",
   "execution_count": null,
   "metadata": {},
   "outputs": [],
   "source": [
    "file['Total Due'] = pd.to_numeric(file['Total Due'], errors='coerce')\n",
    "#del file['Unnamed: 29']\n",
    "#del file['Unnamed: 30']\n",
    "file.columns"
   ]
  },
  {
   "cell_type": "code",
   "execution_count": null,
   "metadata": {},
   "outputs": [],
   "source": [
    "#groupby day total sum\n",
    "day_group = file.groupby('WeekD')['Total Due'].sum()\n",
    "day_group\n",
    "\n",
    "Sum_perday = day_group.plot(kind='bar')\n",
    "\n",
    "Sum_perday"
   ]
  },
  {
   "cell_type": "code",
   "execution_count": null,
   "metadata": {},
   "outputs": [],
   "source": [
    "#groupby day total average due\n",
    "day_group = file.groupby('WeekD')['Total Due'].mean()\n",
    "day_group\n",
    "\n",
    "Average_due_perday = day_group.plot(kind='bar')"
   ]
  },
  {
   "cell_type": "code",
   "execution_count": null,
   "metadata": {},
   "outputs": [],
   "source": [
    "#groupby hours \n",
    "hours_group = file.groupby(['H','WeekD'])['Total Due'].sum()\n",
    "\n",
    "count_perhour = hours_group.plot()\n",
    "ax.set_xlim(7,18)\n",
    "count_perhour"
   ]
  },
  {
   "cell_type": "code",
   "execution_count": null,
   "metadata": {},
   "outputs": [],
   "source": [
    "date_group = file.groupby(['date'])['Total Due'].sum().to_frame(name = 'count').reset_index()\n",
    "file1 = file.merge(date_group)\n",
    "file1.head()"
   ]
  },
  {
   "cell_type": "code",
   "execution_count": null,
   "metadata": {},
   "outputs": [],
   "source": [
    "#Average money spend per month\n",
    "ax1 = sns.boxplot(x='MonthN',y='Total Due',data=file1)\n",
    "ax1.set_ylim(0,13)"
   ]
  },
  {
   "cell_type": "code",
   "execution_count": null,
   "metadata": {},
   "outputs": [],
   "source": [
    "#Seasonal revenue\n",
    "ax2 = sns.lineplot(x='MonthN',y='count',data=file1, ci='sd', estimator=\"mean\")\n",
    "ax2.set_ylim(0,6000)"
   ]
  },
  {
   "cell_type": "code",
   "execution_count": null,
   "metadata": {},
   "outputs": [],
   "source": [
    "#By hours average spent\n",
    "ax3 = sns.boxplot(x='H',y='Total Due',data=file1)\n",
    "ax3.set_xlim(6.5,17.5)\n",
    "ax3.set_ylim(0,20)"
   ]
  },
  {
   "cell_type": "code",
   "execution_count": null,
   "metadata": {},
   "outputs": [],
   "source": [
    "ax4 = sns.boxplot(x='Category',y='H',data=file1)"
   ]
  },
  {
   "cell_type": "code",
   "execution_count": null,
   "metadata": {},
   "outputs": [],
   "source": []
  }
 ],
 "metadata": {
  "kernelspec": {
   "display_name": "Python 3",
   "language": "python",
   "name": "python3"
  },
  "language_info": {
   "codemirror_mode": {
    "name": "ipython",
    "version": 3
   },
   "file_extension": ".py",
   "mimetype": "text/x-python",
   "name": "python",
   "nbconvert_exporter": "python",
   "pygments_lexer": "ipython3",
   "version": "3.6.7"
  }
 },
 "nbformat": 4,
 "nbformat_minor": 2
}
